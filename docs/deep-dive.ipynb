{
 "cells": [
  {
   "cell_type": "markdown",
   "metadata": {},
   "source": [
    "# Diving into our CI/CD Pipeline\n",
    "\n",
    "On this section we will dive into the internals of the CI/CD pipeline for our [model implementation repositories](README.md#model-implementation-repository).\n",
    "This includes a detailed description of the `Jenkinsfile`, as well as a look into our suggested testing methodology.\n",
    "\n",
    "Note that this will cover a generic example.\n",
    "However, as we shall see, specialising this approach into any of our [three main use cases](README.md#use-cases) will be straightforward.\n",
    "\n",
    "We leverage [Jenkins Pipelines](https://jenkins.io/doc/book/pipeline/) in order to run our continous integration and delivery automation.\n",
    "From a high-level point of view, the pipeline configuration will be responsible for:\n",
    "\n",
    "- Define a **replicable** test and build environment.\n",
    "- Run the unit and integration tests (if applicable).\n",
    "- Promote the application into our staging and production environments.\n",
    "  \n",
    "We can see a `Jenkinsfile` below taken from the [`news_classifier`](./models/news_classifier) example.\n",
    "This `Jenkinsfile` defines a pipeline which takes into account all of the points mentioned above.\n",
    "The following sections will dive into each of the sections in a much higher detail."
   ]
  },
  {
   "cell_type": "code",
   "execution_count": 2,
   "metadata": {},
   "outputs": [
    {
     "name": "stdout",
     "output_type": "stream",
     "text": [
      "\u001b[37m//properties([pipelineTriggers([githubPush()])])\u001b[39;49;00m\n",
      "\n",
      "\u001b[36mdef\u001b[39;49;00m label = \u001b[33m\"worker-${UUID.randomUUID().toString()}\"\u001b[39;49;00m\n",
      "\n",
      "podTemplate(label: label, \n",
      "  workspaceVolume: dynamicPVC(requestsSize: \u001b[33m\"4Gi\"\u001b[39;49;00m),\n",
      "  containers: [\n",
      "  containerTemplate(\n",
      "      name: \u001b[33m'news-classifier-builder'\u001b[39;49;00m, \n",
      "      image: \u001b[33m'seldonio/core-builder:0.4'\u001b[39;49;00m, \n",
      "      command: \u001b[33m'cat'\u001b[39;49;00m, \n",
      "      ttyEnabled: \u001b[34mtrue\u001b[39;49;00m,\n",
      "      privileged: \u001b[34mtrue\u001b[39;49;00m,\n",
      "      resourceRequestCpu: \u001b[33m'200m'\u001b[39;49;00m,\n",
      "      resourceLimitCpu: \u001b[33m'500m'\u001b[39;49;00m,\n",
      "      resourceRequestMemory: \u001b[33m'1500Mi'\u001b[39;49;00m,\n",
      "      resourceLimitMemory: \u001b[33m'1500Mi'\u001b[39;49;00m,\n",
      "  ),\n",
      "  containerTemplate(\n",
      "      name: \u001b[33m'jnlp'\u001b[39;49;00m, \n",
      "      image: \u001b[33m'jenkins/jnlp-slave:3.35-5-alpine'\u001b[39;49;00m, \n",
      "      args: \u001b[33m'${computer.jnlpmac} ${computer.name}'\u001b[39;49;00m)\n",
      "],\n",
      "yaml:\u001b[33m'''\u001b[39;49;00m\n",
      "\u001b[33mspec:\u001b[39;49;00m\n",
      "\u001b[33m  securityContext:\u001b[39;49;00m\n",
      "\u001b[33m    fsGroup: 1000\u001b[39;49;00m\n",
      "\u001b[33m  containers:\u001b[39;49;00m\n",
      "\u001b[33m  - name: jnlp\u001b[39;49;00m\n",
      "\u001b[33m    imagePullPolicy: IfNotPresent\u001b[39;49;00m\n",
      "\u001b[33m    resources:\u001b[39;49;00m\n",
      "\u001b[33m      limits:\u001b[39;49;00m\n",
      "\u001b[33m        ephemeral-storage: \"500Mi\"\u001b[39;49;00m\n",
      "\u001b[33m      requests:\u001b[39;49;00m\n",
      "\u001b[33m        ephemeral-storage: \"500Mi\"\u001b[39;49;00m\n",
      "\u001b[33m  - name: news-classifier-builder\u001b[39;49;00m\n",
      "\u001b[33m    imagePullPolicy: IfNotPresent\u001b[39;49;00m\n",
      "\u001b[33m    resources:\u001b[39;49;00m\n",
      "\u001b[33m      limits:\u001b[39;49;00m\n",
      "\u001b[33m        ephemeral-storage: \"15Gi\"\u001b[39;49;00m\n",
      "\u001b[33m      requests:\u001b[39;49;00m\n",
      "\u001b[33m        ephemeral-storage: \"15Gi\"\u001b[39;49;00m\n",
      "\u001b[33m'''\u001b[39;49;00m,\n",
      "volumes: [\n",
      "  hostPathVolume(mountPath: \u001b[33m'/sys/fs/cgroup'\u001b[39;49;00m, hostPath: \u001b[33m'/sys/fs/cgroup'\u001b[39;49;00m),\n",
      "  hostPathVolume(mountPath: \u001b[33m'/lib/modules'\u001b[39;49;00m, hostPath: \u001b[33m'/lib/modules'\u001b[39;49;00m),\n",
      "  emptyDirVolume(mountPath: \u001b[33m'/var/lib/docker'\u001b[39;49;00m),\n",
      "]) {\n",
      "  node(label) {\n",
      "    \u001b[36mdef\u001b[39;49;00m myRepo = checkout scm\n",
      "    \u001b[36mdef\u001b[39;49;00m gitCommit = myRepo.\u001b[36mGIT_COMMIT\u001b[39;49;00m\n",
      "    \u001b[36mdef\u001b[39;49;00m gitBranch = myRepo.\u001b[36mGIT_BRANCH\u001b[39;49;00m\n",
      "    \u001b[36mdef\u001b[39;49;00m shortGitCommit = \u001b[33m\"${gitCommit[0..10]}\"\u001b[39;49;00m\n",
      "    \u001b[36mdef\u001b[39;49;00m previousGitCommit = sh(script: \u001b[33m\"git rev-parse ${gitCommit}~\"\u001b[39;49;00m, returnStdout: \u001b[34mtrue\u001b[39;49;00m)\n",
      " \n",
      "    stage(\u001b[33m'Test'\u001b[39;49;00m) {\n",
      "      container(\u001b[33m'news-classifier-builder'\u001b[39;49;00m) {\n",
      "        sh \u001b[33m\"\"\"\u001b[39;49;00m\n",
      "\u001b[33m          pwd\u001b[39;49;00m\n",
      "\u001b[33m          make -C models/news_classifier \\\u001b[39;49;00m\n",
      "\u001b[33m            install_dev \\\u001b[39;49;00m\n",
      "\u001b[33m            test \u001b[39;49;00m\n",
      "\u001b[33m          \"\"\"\u001b[39;49;00m\n",
      "      }\n",
      "    }\n",
      "\n",
      "    \u001b[37m/* stage('Test integration') { */\u001b[39;49;00m\n",
      "      \u001b[37m/* container('news-classifier-builder') { */\u001b[39;49;00m\n",
      "        \u001b[37m/* sh 'models/news_classifier/integration/kind_test_all.sh' */\u001b[39;49;00m\n",
      "      \u001b[37m/* } */\u001b[39;49;00m\n",
      "    \u001b[37m/* } */\u001b[39;49;00m\n",
      "\n",
      "    stage(\u001b[33m'Promote application'\u001b[39;49;00m) {\n",
      "      container(\u001b[33m'news-classifier-builder'\u001b[39;49;00m) {\n",
      "        withCredentials([[$class: \u001b[33m'UsernamePasswordMultiBinding'\u001b[39;49;00m,\n",
      "              credentialsId: \u001b[33m'github-access'\u001b[39;49;00m,\n",
      "              usernameVariable: \u001b[33m'GIT_USERNAME'\u001b[39;49;00m,\n",
      "              passwordVariable: \u001b[33m'GIT_PASSWORD'\u001b[39;49;00m]]) {\n",
      "\n",
      "          sh \u001b[33m'models/news_classifier/promote_application.sh'\u001b[39;49;00m\n",
      "        }\n",
      "      }\n",
      "    }\n",
      "  }\n",
      "}\n"
     ]
    }
   ],
   "source": [
    "!pygmentize -l groovy ./models/news_classifier/Jenkinsfile"
   ]
  },
  {
   "cell_type": "markdown",
   "metadata": {},
   "source": [
    "## Replicable test and build environment\n",
    "\n",
    "In order to ensure that our test environments are versioned and replicable, we make use of the [Jenkins Kubernetes plugin](https://github.com/jenkinsci/kubernetes-plugin).\n",
    "This will allow us to create a Docker image with all the necessary tools for testing and building our models.\n",
    "Using this image, we will then spin up a separate pod, where all our build instructions will be ran.\n",
    "\n",
    "Since it leverages Kubernetes underneath, this also ensure that our CI/CD pipelines are easily scalable.\n",
    "\n",
    "**TODO:** Add note on `podTemplate()` object."
   ]
  },
  {
   "cell_type": "markdown",
   "metadata": {},
   "source": [
    "## Integration tests\n",
    "\n",
    "Now that we have a model that we want to be able to deploy, we want to make sure that we run end-to-end tests on that model to make sure everything works as expected.\n",
    "For this we will leverage the same framework that the Kubernetes team uses to test Kubernetes itself: [KIND](https://kind.sigs.k8s.io/).\n",
    "\n",
    "KIND stands for Kubernetes-in-Docker, and is used to isolate a Kubernetes environent for end-to-end tests.\n",
    "In our case, we will use this isolated environment to test our model.\n",
    "\n",
    "The steps we'll have to carry out include:\n",
    "\n",
    "1. Enable Docker within your CI/CD pod.\n",
    "2. Add an integration test stage.\n",
    "3. Leverage the `kind_test_all.sh` script that creates a KIND cluster and runs the tests.\n"
   ]
  },
  {
   "cell_type": "markdown",
   "metadata": {},
   "source": [
    "### Add integration stage to Jenkins\n",
    "\n",
    "We can leverage Jenkins Pipelines to manage the different stages of our CI/CD pipeline.\n",
    "In particular, to add an integration stage, we can use the `stage()` object:\n",
    "\n",
    "```groovy\n",
    "stage('Test integration') {\n",
    "  container('news-classifier-builder') {\n",
    "    sh 'models/news_classifier/integration/kind_test_all.sh'\n",
    "  }\n",
    "}\n",
    "```"
   ]
  },
  {
   "cell_type": "markdown",
   "metadata": {},
   "source": [
    "### Enable Docker\n",
    "\n",
    "To test our models, we will need to build their respective containers, for which we will need Docker."
   ]
  },
  {
   "cell_type": "markdown",
   "metadata": {},
   "source": [
    "In order to do so, we will first need to mount a few volumes into the CI/CD container.\n",
    "These basically consist of the core components that docker will need to be able to run.\n",
    "To mount them we will leverage the `volumes` argument of the `podTemplate()` object:\n",
    "\n",
    "```groovy\n",
    "podTemplate(...,\n",
    "    volumes: [\n",
    "      hostPathVolume(mountPath: '/sys/fs/cgroup', hostPath: '/sys/fs/cgroup'),\n",
    "      hostPathVolume(mountPath: '/lib/modules', hostPath: '/lib/modules'),\n",
    "      emptyDirVolume(mountPath: '/var/lib/docker'),\n",
    "    ])\n",
    "```"
   ]
  },
  {
   "cell_type": "markdown",
   "metadata": {},
   "source": [
    "We then need to make sure that the pod can run with privileged context.\n",
    "This step is required in order to be able to run the `docker` daemon.\n",
    "To enable privileged permissions we will leverage the `privileged` flag of the `containerTemplate()` object and the `yaml` parameter of `podTemplate()`:\n",
    "\n",
    "\n",
    "```groovy\n",
    "podTemplate(...,\n",
    "    containers: [\n",
    "      containerTemplate(\n",
    "          ...,\n",
    "          privileged: true,\n",
    "          ...\n",
    "      ),\n",
    "      ...],\n",
    "    yaml:'''\n",
    "    spec:\n",
    "      securityContext:\n",
    "        fsGroup: 1000\n",
    "      ...\n",
    "    ''',\n",
    "....)\n",
    "```"
   ]
  },
  {
   "cell_type": "markdown",
   "metadata": {},
   "source": [
    "### Run tests in Kind \n",
    "\n",
    "The `kind_run_all.sh` may seem complicated at first, but it's actually quite simple. \n",
    "All the script does is set-up a kind cluster with all dependencies, deploy the model and clean everything up.\n",
    "Let's break down each of the components within the script."
   ]
  },
  {
   "cell_type": "markdown",
   "metadata": {},
   "source": [
    "We first start the docker daemon and wait until Docker is running (using `docker ps q` for guidance.\n",
    "\n",
    "```bash\n",
    "# FIRST WE START THE DOCKER DAEMON\n",
    "service docker start\n",
    "# the service can be started but the docker socket not ready, wait for ready\n",
    "WAIT_N=0\n",
    "while true; do\n",
    "    # docker ps -q should only work if the daemon is ready\n",
    "    docker ps -q > /dev/null 2>&1 && break\n",
    "    if [[ ${WAIT_N} -lt 5 ]]; then\n",
    "        WAIT_N=$((WAIT_N+1))\n",
    "        echo \"[SETUP] Waiting for Docker to be ready, sleeping for ${WAIT_N} seconds ...\"\n",
    "        sleep ${WAIT_N}\n",
    "    else\n",
    "        echo \"[SETUP] Reached maximum attempts, not waiting any longer ...\"\n",
    "        break\n",
    "    fi\n",
    "done\n",
    "```"
   ]
  },
  {
   "cell_type": "markdown",
   "metadata": {},
   "source": [
    "Once we're running a docker daemon, we can run the command to create our KIND cluster, and install all the components.\n",
    "This will set up a Kubernetes cluster using the docker daemon (using containers as Nodes), and then install Ambassador + Seldon Core.\n",
    "\n",
    "\n",
    "```bash\n",
    "#######################################\n",
    "# AVOID EXIT ON ERROR FOR FOLLOWING CMDS\n",
    "set +o errexit\n",
    "\n",
    "# START CLUSTER \n",
    "make kind_create_cluster\n",
    "KIND_EXIT_VALUE=$?\n",
    "\n",
    "# Ensure we reach the kubeconfig path\n",
    "export KUBECONFIG=$(kind get kubeconfig-path)\n",
    "\n",
    "# ONLY RUN THE FOLLOWING IF SUCCESS\n",
    "if [[ ${KIND_EXIT_VALUE} -eq 0 ]]; then\n",
    "    # KIND CLUSTER SETUP\n",
    "    make kind_setup\n",
    "    SETUP_EXIT_VALUE=$?\n",
    "```"
   ]
  },
  {
   "cell_type": "markdown",
   "metadata": {},
   "source": [
    "We can now run the tests; for this we run all the dev installations and kick off our tests (which we'll add inside of the integration folder).\n",
    "\n",
    "```bash\n",
    "    # BUILD S2I BASE IMAGES\n",
    "    make build\n",
    "    S2I_EXIT_VALUE=$?\n",
    "\n",
    "    ## INSTALL ALL REQUIRED DEPENDENCIES\n",
    "    make install_integration_dev\n",
    "    INSTALL_EXIT_VALUE=$?\n",
    "    \n",
    "    ## RUNNING TESTS AND CAPTURING ERROR\n",
    "    make test\n",
    "    TEST_EXIT_VALUE=$?\n",
    "fi\n",
    "```"
   ]
  },
  {
   "cell_type": "markdown",
   "metadata": {},
   "source": [
    "\n",
    "Finally we just clean everything, including the cluster, the containers and the docker daemon.\n",
    "\n",
    "```bash\n",
    "# DELETE KIND CLUSTER\n",
    "make kind_delete_cluster\n",
    "DELETE_EXIT_VALUE=$?\n",
    "\n",
    "#######################################\n",
    "# EXIT STOPS COMMANDS FROM HERE ONWARDS\n",
    "set -o errexit\n",
    "\n",
    "# CLEANING DOCKER\n",
    "docker ps -aq | xargs -r docker rm -f || true\n",
    "service docker stop || true\n",
    "```"
   ]
  },
  {
   "cell_type": "markdown",
   "metadata": {},
   "source": [
    "## Promote your application\n",
    "\n",
    "After running our integration tests, the last step is to promote our model to our staging and production environments.\n",
    "For that, we will leverage our [GitOps repository](./README.md#gitops-repository) where the state of each environment is stored.\n",
    "\n",
    "In particular, we will:\n",
    "\n",
    "- Push a change to the staging GitOps repository, which will update the staging environment instantly.\n",
    "- Submit a PR to the production GitOps repository, which will wait for a Tech Lead / Manager approval.\n"
   ]
  },
  {
   "cell_type": "code",
   "execution_count": null,
   "metadata": {},
   "outputs": [],
   "source": [
    "!jx promote application --..."
   ]
  },
  {
   "cell_type": "markdown",
   "metadata": {},
   "source": [
    "## Test your production application\n",
    "\n",
    "Once your production application is deployed, you can test it using the same script, but in the `jx-production` namespace:"
   ]
  },
  {
   "cell_type": "code",
   "execution_count": null,
   "metadata": {},
   "outputs": [],
   "source": [
    "from seldon_core.seldon_client import SeldonClient\n",
    "import numpy as np\n",
    "\n",
    "url = !kubectl get svc ambassador -o jsonpath='{.status.loadBalancer.ingress[0].hostname}'\n",
    "\n",
    "sc = SeldonClient(\n",
    "    gateway=\"ambassador\", \n",
    "    gateway_endpoint=\"localhost:80\",\n",
    "    deployment_name=\"mlops-server\",\n",
    "    payload_type=\"ndarray\",\n",
    "    namespace=\"jx-production\",\n",
    "    transport=\"rest\")\n",
    "\n",
    "response = sc.predict(data=np.array([twenty_test.data[0]]))\n",
    "\n",
    "response.response.data"
   ]
  },
  {
   "cell_type": "code",
   "execution_count": null,
   "metadata": {},
   "outputs": [],
   "source": []
  }
 ],
 "metadata": {
  "kernelspec": {
   "display_name": "sig-mlops",
   "language": "python",
   "name": "sig-mlops"
  },
  "language_info": {
   "codemirror_mode": {
    "name": "ipython",
    "version": 3
   },
   "file_extension": ".py",
   "mimetype": "text/x-python",
   "name": "python",
   "nbconvert_exporter": "python",
   "pygments_lexer": "ipython3",
   "version": "3.6.9"
  }
 },
 "nbformat": 4,
 "nbformat_minor": 4
}
