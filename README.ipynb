{
 "cells": [
  {
   "cell_type": "markdown",
   "metadata": {},
   "source": [
    "# MLOps with Seldon and Jenkins Classic\n",
    "\n",
    "This repository shows how you can build a Jenkins Classic pipeline to enable Continuous Integration and Continuous Delivery (CI/CD) on your Machine Learning models leveraging Seldon for deployment.\n",
    "This CI/CD pipeline will allow you to:\n",
    "\n",
    "- Run unit tests using Jenkins Classic.\n",
    "- Run end-to-end tests for your model with KIND (Kubernetes in Docker).\n",
    "- Promote your model as a across multiple (staging / prod) environments.\n",
    "\n",
    "To showcase these features we will implement add continuous integration and delivery to three different models. \n",
    "You can find these under the `/models` folder.\n",
    "As we shall see, each of them will require a [different approach to deployment](#Use-Cases)."
   ]
  },
  {
   "cell_type": "markdown",
   "metadata": {},
   "source": [
    "## CI/CD Pipeline\n",
    "\n",
    "The diagram below provides a high level overview of the CI/CD pipeline.\n",
    "It includes an overview of all the different types of repositories, together with the stakeholders that are the primary contributors of each, as well as the Kubernetes environments in which the applications are deployed.\n",
    "\n",
    "The key pieces to note on the diagram are:\n",
    "\n",
    "- There are different types of environments with different restrictions and behaviours, e.g. staging and production.\n",
    "- It’s possible to have more than one environment for each type (as the type is just what would give it a specific type of config/behaviour).\n",
    "- The environments are by default in the same cluster (as namespaces), however it’s also possible to configure them across different clusters.\n",
    "- Each of the green boxes is a single repository, but it can also have a mono-repo approach, whereby each of the white boxes is a folder within a repo.\n",
    "\n",
    "![CI/CD Pipeline](./images/pipeline-architecture.jpg)\n",
    "\n",
    "**TODO:** Link each type to its own folder."
   ]
  },
  {
   "cell_type": "markdown",
   "metadata": {},
   "source": [
    "### Model implementation repository\n",
    "\n",
    "From a high-level point of view, when a model implementation repository is updated by a Data Scientist or ML Engineer, the Jenkins CI will push changes to the [GitOps repository](#gitops-repository). This enables the following workflow:\n",
    "\n",
    "1. A Data Scientist or ML Engineer trains a new model.\n",
    "2. The Data Scientist or ML Engineer pushes the updated configuration to the model implementation repository.\n",
    "3. The CI tool automatically builds and tests the model implementation.\n",
    "4. The CI tool automatically pushes the change into the GitOps staging repository.\n",
    "5. The CI tool automatically opens a PR into the GitOps production repository.\n",
    "\n",
    "One key point to highlight which may not be obvious by just looking at the diagram is that in this phase of model implementation, the example above showcases how we can leverage a re-usable model server - that is, reusing a pre-built docker image instead of building one every time.\n",
    "If there are more custom requirements, the user is in full control of the steps performed by the CI Platform Jenkins.\n",
    "This means that it is also possible to build s2i wrapped components which may require training the image every time.\n",
    "\n",
    "To gain a better understanding of how the CI/CD pipeline is implemented on each model implementation repository you can check the documented [deep dive](./docs/deep-dive.md).\n",
    "\n",
    "#### Why a new repo for every model?\n",
    "\n",
    "A new model implementation repo is currently created because it provides us with a way to separate the “Model Deployment” phase and the “Model Training/Experimentation” phase, and allows us to use the repo as the integration between any frameworks that can serve as sources of models (MLFlow, Kubeflow, Spark, etc).\n",
    "The repo is able to store any metadata, IDs, and configuration files required, and is processed through the CI pipeline every time it is modified. \n",
    "\n",
    "#### Building a docker image in model implementation repository\n",
    "\n",
    "Whilst most of the times users of this approach will be leveraging re-usable model servers such as the SKLearn model server, it is also possible to build a docker image every single time (i.e. build a non-reusable model every time a model changes).\n",
    "This can be be done by adding the relevant steps which would most often include the s2i utility.\n",
    "This may be desired if there are non-standard linux libraries or non-standard depdencies that need to be re-installed every time. "
   ]
  },
  {
   "cell_type": "markdown",
   "metadata": {},
   "source": [
    "### GitOps repository\n",
    "\n",
    "**TODO:** All resources? Helm charts or just specs?\n",
    "\n",
    "The state of each of our environments (e.g. production or staging) is stored on a GitOps repository.\n",
    "This repository contains all the different Kubernetes resources that have been deployed to each cluster.\n",
    "It is linked through ArgoCD to each of our Kubernetes clusters (or namespaces) so that a change in the repository triggers an update of our environment.\n",
    "\n",
    "When the deployment configuration of a machine learning model implementation is updated, this will automatically make the changes available through a PR to the respective manager/tech-lead/approver.\n",
    "This step will enable the end to end machine learning model promotion to be reviewed and approved by the respective individual.\n",
    "\n",
    "The manager/tech-lead will have to approve the PR before it can be merged.\n",
    "Once it’s approved, it will be merged into the GitOps repo, which will immediately trigger the update in the production namespace/cluster."
   ]
  },
  {
   "cell_type": "markdown",
   "metadata": {},
   "source": [
    "### Re-usable model server repository\n",
    "\n",
    "If there is a need for a new reusable model server, then it’s possible to do so by creating a repository which would follow a different path.\n",
    "This would be different to the model implementation repository as it would only be built once in a while, whilst the model server would be built multiple times."
   ]
  },
  {
   "cell_type": "markdown",
   "metadata": {},
   "source": [
    "## Set up\n",
    "\n",
    "As a pre-requisite you need to ensure that have access to a Kubernetes cluster.\n",
    "In particular, this guide requires the following pre- requisites:\n",
    "\n",
    "- A Kubernetes cluster running v1.13+.\n",
    "- Jenkins Classic installed in your cluster.\n",
    "- Seldon Core v0.5.1 installed in your cluster.\n",
    "\n",
    "**TODO:** Add note on ArgoCD (or Seldon Deploy??)"
   ]
  },
  {
   "cell_type": "markdown",
   "metadata": {},
   "source": [
    "### Jenkins Config\n",
    "\n",
    "The configurations required in the Jenkins server are:\n",
    "\n",
    "- Install the GitHub Plugin [(for automated webhook triggers)](https://support.cloudbees.com/hc/en-us/articles/115003015691-GitHub-Webhook-Non-Multibranch-Jobs).\n",
    "- Provide a GitHub token with read access so it can clone relevant repositories.\n",
    "- Set-up webhooks so that GitHub can send push requests."
   ]
  },
  {
   "cell_type": "markdown",
   "metadata": {},
   "source": [
    "## Use cases\n",
    "\n",
    "**TODO:** Add links to separate notebooks.\n",
    "\n",
    "This guide goes through three different methods to build and deploy your model.\n",
    "\n",
    "- Using Seldon pre-built re-usable model servers. \n",
    "- Using custom re-usable servers.\n",
    "- Using custom servers with an embedded model."
   ]
  },
  {
   "cell_type": "markdown",
   "metadata": {},
   "source": [
    "## Next steps\n",
    "\n",
    "The following resources go into more practical and deeper aspects of how MLOps can be implemented with Seldon on Jenkins Classic.\n",
    "\n",
    "- [Deep dive](./docs/deep-dive.md). Walkthrough on the different parts of the CI/CD pipeline for a model implementation repository. \n",
    "- **TODO:** Add notebook on how to create a CI/CD pipeline\n",
    "- **TODO:** Add notebook on how to set up the K8s cluster (e.g. install Jenkins, secrets, etc)"
   ]
  },
  {
   "cell_type": "code",
   "execution_count": null,
   "metadata": {},
   "outputs": [],
   "source": []
  }
 ],
 "metadata": {
  "kernelspec": {
   "display_name": "sig-mlops",
   "language": "python",
   "name": "sig-mlops"
  },
  "language_info": {
   "codemirror_mode": {
    "name": "ipython",
    "version": 3
   },
   "file_extension": ".py",
   "mimetype": "text/x-python",
   "name": "python",
   "nbconvert_exporter": "python",
   "pygments_lexer": "ipython3",
   "version": "3.6.9"
  }
 },
 "nbformat": 4,
 "nbformat_minor": 4
}
